{
 "cells": [
  {
   "cell_type": "markdown",
   "id": "00adc6fb",
   "metadata": {},
   "source": [
    "### LGMVIP - DataScience - Task 3"
   ]
  },
  {
   "cell_type": "markdown",
   "id": "031773e8",
   "metadata": {},
   "source": [
    "### Music Recommendation"
   ]
  },
  {
   "cell_type": "code",
   "execution_count": 64,
   "id": "2ac2ea06",
   "metadata": {},
   "outputs": [],
   "source": [
    "#Importing necessary libraries\n",
    "\n",
    "import pandas as pd\n",
    "import seaborn as sns\n",
    "import matplotlib.pyplot as plt\n",
    "%matplotlib inline\n",
    "from sklearn.preprocessing import LabelEncoder\n",
    "from sklearn.preprocessing import StandardScaler\n",
    "from sklearn.model_selection import train_test_split\n",
    "from sklearn.metrics import classification_report, confusion_matrix, accuracy_score\n",
    "from sklearn.model_selection import cross_val_score\n",
    "from sklearn.metrics import ConfusionMatrixDisplay\n",
    "\n",
    "from sklearn.linear_model import LogisticRegression\n",
    "from sklearn.tree import DecisionTreeClassifier"
   ]
  },
  {
   "cell_type": "code",
   "execution_count": 42,
   "id": "416d1fac",
   "metadata": {
    "scrolled": true
   },
   "outputs": [
    {
     "name": "stdout",
     "output_type": "stream",
     "text": [
      "Defaulting to user installation because normal site-packages is not writeable\n",
      "Collecting py7zr\n",
      "  Downloading py7zr-0.20.5-py3-none-any.whl (66 kB)\n",
      "\u001b[2K     \u001b[90m━━━━━━━━━━━━━━━━━━━━━━━━━━━━━━━━━━━━━━━\u001b[0m \u001b[32m66.4/66.4 KB\u001b[0m \u001b[31m703.0 kB/s\u001b[0m eta \u001b[36m0:00:00\u001b[0m \u001b[36m0:00:01\u001b[0m\n",
      "\u001b[?25hCollecting multivolumefile>=0.2.3\n",
      "  Downloading multivolumefile-0.2.3-py3-none-any.whl (17 kB)\n",
      "Collecting pybcj>=0.6.0\n",
      "  Downloading pybcj-1.0.1-cp37-cp37m-manylinux_2_17_x86_64.manylinux2014_x86_64.whl (50 kB)\n",
      "\u001b[2K     \u001b[90m━━━━━━━━━━━━━━━━━━━━━━━━━━━━━━━━━━━━━━━\u001b[0m \u001b[32m50.5/50.5 KB\u001b[0m \u001b[31m581.1 kB/s\u001b[0m eta \u001b[36m0:00:00\u001b[0ma \u001b[36m0:00:01\u001b[0m\n",
      "\u001b[?25hCollecting pycryptodomex>=3.6.6\n",
      "  Downloading pycryptodomex-3.18.0-cp35-abi3-manylinux_2_17_x86_64.manylinux2014_x86_64.whl (2.1 MB)\n",
      "\u001b[2K     \u001b[90m━━━━━━━━━━━━━━━━━━━━━━━━━━━━━━━━━━━━━━━━\u001b[0m \u001b[32m2.1/2.1 MB\u001b[0m \u001b[31m13.6 MB/s\u001b[0m eta \u001b[36m0:00:00\u001b[0m00:01\u001b[0m00:01\u001b[0m\n",
      "\u001b[?25hRequirement already satisfied: psutil in /usr/local/lib/python3.7/site-packages (from py7zr) (5.7.0)\n",
      "Collecting pyzstd>=0.14.4\n",
      "  Downloading pyzstd-0.15.9-cp37-cp37m-manylinux_2_17_x86_64.manylinux2014_x86_64.whl (410 kB)\n",
      "\u001b[2K     \u001b[90m━━━━━━━━━━━━━━━━━━━━━━━━━━━━━━━━━━━━━━━\u001b[0m \u001b[32m410.6/410.6 KB\u001b[0m \u001b[31m4.9 MB/s\u001b[0m eta \u001b[36m0:00:00\u001b[0m00:01\u001b[0m\n",
      "\u001b[?25hCollecting texttable\n",
      "  Downloading texttable-1.6.7-py2.py3-none-any.whl (10 kB)\n",
      "Collecting inflate64>=0.3.1\n",
      "  Downloading inflate64-0.3.1-cp37-cp37m-manylinux_2_17_x86_64.manylinux2014_x86_64.whl (93 kB)\n",
      "\u001b[2K     \u001b[90m━━━━━━━━━━━━━━━━━━━━━━━━━━━━━━━━━━━━━━━━\u001b[0m \u001b[32m93.6/93.6 KB\u001b[0m \u001b[31m1.1 MB/s\u001b[0m eta \u001b[36m0:00:00\u001b[0m:00:01\u001b[0m\n",
      "\u001b[?25hCollecting brotli>=1.0.9\n",
      "  Downloading Brotli-1.0.9-cp37-cp37m-manylinux1_x86_64.whl (357 kB)\n",
      "\u001b[2K     \u001b[90m━━━━━━━━━━━━━━━━━━━━━━━━━━━━━━━━━━━━━━━\u001b[0m \u001b[32m357.2/357.2 KB\u001b[0m \u001b[31m4.7 MB/s\u001b[0m eta \u001b[36m0:00:00\u001b[0m00:01\u001b[0m\n",
      "\u001b[?25hCollecting pyppmd<1.1.0,>=0.18.1\n",
      "  Downloading pyppmd-1.0.0-cp37-cp37m-manylinux_2_17_x86_64.manylinux2014_x86_64.whl (138 kB)\n",
      "\u001b[2K     \u001b[90m━━━━━━━━━━━━━━━━━━━━━━━━━━━━━━━━━━━━━━━\u001b[0m \u001b[32m138.6/138.6 KB\u001b[0m \u001b[31m1.7 MB/s\u001b[0m eta \u001b[36m0:00:00\u001b[0ma \u001b[36m0:00:01\u001b[0m\n",
      "\u001b[?25hRequirement already satisfied: importlib-metadata in /usr/local/lib/python3.7/site-packages (from py7zr) (1.6.0)\n",
      "Requirement already satisfied: zipp>=0.5 in /usr/local/lib/python3.7/site-packages (from importlib-metadata->py7zr) (3.1.0)\n",
      "Installing collected packages: texttable, brotli, pyzstd, pyppmd, pycryptodomex, multivolumefile, pybcj, inflate64, py7zr\n",
      "\u001b[33m  WARNING: The script py7zr is installed in '/home/labsuser/.local/bin' which is not on PATH.\n",
      "  Consider adding this directory to PATH or, if you prefer to suppress this warning, use --no-warn-script-location.\u001b[0m\u001b[33m\n",
      "\u001b[0mSuccessfully installed brotli-1.0.9 inflate64-0.3.1 multivolumefile-0.2.3 py7zr-0.20.5 pybcj-1.0.1 pycryptodomex-3.18.0 pyppmd-1.0.0 pyzstd-0.15.9 texttable-1.6.7\n",
      "\u001b[33mWARNING: You are using pip version 22.0.3; however, version 23.2 is available.\n",
      "You should consider upgrading via the '/usr/local/bin/python3 -m pip install --upgrade pip' command.\u001b[0m\u001b[33m\n",
      "\u001b[0m"
     ]
    }
   ],
   "source": [
    "#The files provided are zipped hence need to unzip and extract our datasets\n",
    "\n",
    "!pip install py7zr\n",
    "import py7zr"
   ]
  },
  {
   "cell_type": "code",
   "execution_count": 43,
   "id": "8787fb0f",
   "metadata": {},
   "outputs": [],
   "source": [
    "#Unzipping 7z files\n",
    "df1 = py7zr.SevenZipFile(\"train.csv.7z\",mode='r')\n",
    "df1.extractall(path='Dataset')\n",
    "df1.close()\n",
    "\n",
    "df2 = py7zr.SevenZipFile(\"members.csv.7z\",mode='r')\n",
    "df2.extractall(path='Dataset')\n",
    "df2.close()\n",
    "\n",
    "df3 = py7zr.SevenZipFile(\"song_extra_info.csv.7z\",mode='r')\n",
    "df3.extractall(path='Dataset')\n",
    "df3.close()\n",
    "\n",
    "df4 = py7zr.SevenZipFile(\"songs.csv.7z\",mode='r')\n",
    "df4.extractall(path='Dataset')\n",
    "df4.close()\n",
    "\n",
    "df5 = py7zr.SevenZipFile(\"test.csv.7z\",mode='r')\n",
    "df5.extractall(path='Dataset')\n",
    "df5.close()"
   ]
  },
  {
   "cell_type": "code",
   "execution_count": 2,
   "id": "693632c4",
   "metadata": {},
   "outputs": [],
   "source": [
    "#loading dataset\n",
    "\n",
    "train = pd.read_csv(\"train.csv\")\n",
    "songs = pd.read_csv(\"songs.csv\")\n",
    "members = pd.read_csv(\"members.csv\")\n",
    "song_info = pd.read_csv(\"song_extra_info.csv\")\n",
    "test = pd.read_csv(\"test.csv\")"
   ]
  },
  {
   "cell_type": "code",
   "execution_count": 5,
   "id": "0b90807f",
   "metadata": {},
   "outputs": [
    {
     "data": {
      "text/html": [
       "<div>\n",
       "<style scoped>\n",
       "    .dataframe tbody tr th:only-of-type {\n",
       "        vertical-align: middle;\n",
       "    }\n",
       "\n",
       "    .dataframe tbody tr th {\n",
       "        vertical-align: top;\n",
       "    }\n",
       "\n",
       "    .dataframe thead th {\n",
       "        text-align: right;\n",
       "    }\n",
       "</style>\n",
       "<table border=\"1\" class=\"dataframe\">\n",
       "  <thead>\n",
       "    <tr style=\"text-align: right;\">\n",
       "      <th></th>\n",
       "      <th>msno</th>\n",
       "      <th>song_id</th>\n",
       "      <th>source_system_tab</th>\n",
       "      <th>source_screen_name</th>\n",
       "      <th>source_type</th>\n",
       "      <th>target</th>\n",
       "    </tr>\n",
       "  </thead>\n",
       "  <tbody>\n",
       "    <tr>\n",
       "      <th>0</th>\n",
       "      <td>FGtllVqz18RPiwJj/edr2gV78zirAiY/9SmYvia+kCg=</td>\n",
       "      <td>BBzumQNXUHKdEBOB7mAJuzok+IJA1c2Ryg/yzTF6tik=</td>\n",
       "      <td>explore</td>\n",
       "      <td>Explore</td>\n",
       "      <td>online-playlist</td>\n",
       "      <td>1</td>\n",
       "    </tr>\n",
       "    <tr>\n",
       "      <th>1</th>\n",
       "      <td>Xumu+NIjS6QYVxDS4/t3SawvJ7viT9hPKXmf0RtLNx8=</td>\n",
       "      <td>bhp/MpSNoqoxOIB+/l8WPqu6jldth4DIpCm3ayXnJqM=</td>\n",
       "      <td>my library</td>\n",
       "      <td>Local playlist more</td>\n",
       "      <td>local-playlist</td>\n",
       "      <td>1</td>\n",
       "    </tr>\n",
       "    <tr>\n",
       "      <th>2</th>\n",
       "      <td>Xumu+NIjS6QYVxDS4/t3SawvJ7viT9hPKXmf0RtLNx8=</td>\n",
       "      <td>JNWfrrC7zNN7BdMpsISKa4Mw+xVJYNnxXh3/Epw7QgY=</td>\n",
       "      <td>my library</td>\n",
       "      <td>Local playlist more</td>\n",
       "      <td>local-playlist</td>\n",
       "      <td>1</td>\n",
       "    </tr>\n",
       "  </tbody>\n",
       "</table>\n",
       "</div>"
      ],
      "text/plain": [
       "                                           msno  \\\n",
       "0  FGtllVqz18RPiwJj/edr2gV78zirAiY/9SmYvia+kCg=   \n",
       "1  Xumu+NIjS6QYVxDS4/t3SawvJ7viT9hPKXmf0RtLNx8=   \n",
       "2  Xumu+NIjS6QYVxDS4/t3SawvJ7viT9hPKXmf0RtLNx8=   \n",
       "\n",
       "                                        song_id source_system_tab  \\\n",
       "0  BBzumQNXUHKdEBOB7mAJuzok+IJA1c2Ryg/yzTF6tik=           explore   \n",
       "1  bhp/MpSNoqoxOIB+/l8WPqu6jldth4DIpCm3ayXnJqM=        my library   \n",
       "2  JNWfrrC7zNN7BdMpsISKa4Mw+xVJYNnxXh3/Epw7QgY=        my library   \n",
       "\n",
       "    source_screen_name      source_type  target  \n",
       "0              Explore  online-playlist       1  \n",
       "1  Local playlist more   local-playlist       1  \n",
       "2  Local playlist more   local-playlist       1  "
      ]
     },
     "execution_count": 5,
     "metadata": {},
     "output_type": "execute_result"
    }
   ],
   "source": [
    "train.head(3)"
   ]
  },
  {
   "cell_type": "code",
   "execution_count": 6,
   "id": "79dac175",
   "metadata": {},
   "outputs": [
    {
     "data": {
      "text/html": [
       "<div>\n",
       "<style scoped>\n",
       "    .dataframe tbody tr th:only-of-type {\n",
       "        vertical-align: middle;\n",
       "    }\n",
       "\n",
       "    .dataframe tbody tr th {\n",
       "        vertical-align: top;\n",
       "    }\n",
       "\n",
       "    .dataframe thead th {\n",
       "        text-align: right;\n",
       "    }\n",
       "</style>\n",
       "<table border=\"1\" class=\"dataframe\">\n",
       "  <thead>\n",
       "    <tr style=\"text-align: right;\">\n",
       "      <th></th>\n",
       "      <th>song_id</th>\n",
       "      <th>song_length</th>\n",
       "      <th>genre_ids</th>\n",
       "      <th>artist_name</th>\n",
       "      <th>composer</th>\n",
       "      <th>lyricist</th>\n",
       "      <th>language</th>\n",
       "    </tr>\n",
       "  </thead>\n",
       "  <tbody>\n",
       "    <tr>\n",
       "      <th>0</th>\n",
       "      <td>CXoTN1eb7AI+DntdU1vbcwGRV4SCIDxZu+YD8JP8r4E=</td>\n",
       "      <td>247640</td>\n",
       "      <td>465</td>\n",
       "      <td>張信哲 (Jeff Chang)</td>\n",
       "      <td>董貞</td>\n",
       "      <td>何啟弘</td>\n",
       "      <td>3.0</td>\n",
       "    </tr>\n",
       "    <tr>\n",
       "      <th>1</th>\n",
       "      <td>o0kFgae9QtnYgRkVPqLJwa05zIhRlUjfF7O1tDw0ZDU=</td>\n",
       "      <td>197328</td>\n",
       "      <td>444</td>\n",
       "      <td>BLACKPINK</td>\n",
       "      <td>TEDDY|  FUTURE BOUNCE|  Bekuh BOOM</td>\n",
       "      <td>TEDDY</td>\n",
       "      <td>31.0</td>\n",
       "    </tr>\n",
       "    <tr>\n",
       "      <th>2</th>\n",
       "      <td>DwVvVurfpuz+XPuFvucclVQEyPqcpUkHR0ne1RQzPs0=</td>\n",
       "      <td>231781</td>\n",
       "      <td>465</td>\n",
       "      <td>SUPER JUNIOR</td>\n",
       "      <td>NaN</td>\n",
       "      <td>NaN</td>\n",
       "      <td>31.0</td>\n",
       "    </tr>\n",
       "  </tbody>\n",
       "</table>\n",
       "</div>"
      ],
      "text/plain": [
       "                                        song_id  song_length genre_ids  \\\n",
       "0  CXoTN1eb7AI+DntdU1vbcwGRV4SCIDxZu+YD8JP8r4E=       247640       465   \n",
       "1  o0kFgae9QtnYgRkVPqLJwa05zIhRlUjfF7O1tDw0ZDU=       197328       444   \n",
       "2  DwVvVurfpuz+XPuFvucclVQEyPqcpUkHR0ne1RQzPs0=       231781       465   \n",
       "\n",
       "        artist_name                            composer lyricist  language  \n",
       "0  張信哲 (Jeff Chang)                                  董貞      何啟弘       3.0  \n",
       "1         BLACKPINK  TEDDY|  FUTURE BOUNCE|  Bekuh BOOM    TEDDY      31.0  \n",
       "2      SUPER JUNIOR                                 NaN      NaN      31.0  "
      ]
     },
     "execution_count": 6,
     "metadata": {},
     "output_type": "execute_result"
    }
   ],
   "source": [
    "songs.head(3)"
   ]
  },
  {
   "cell_type": "code",
   "execution_count": 7,
   "id": "fe6e8284",
   "metadata": {},
   "outputs": [
    {
     "data": {
      "text/html": [
       "<div>\n",
       "<style scoped>\n",
       "    .dataframe tbody tr th:only-of-type {\n",
       "        vertical-align: middle;\n",
       "    }\n",
       "\n",
       "    .dataframe tbody tr th {\n",
       "        vertical-align: top;\n",
       "    }\n",
       "\n",
       "    .dataframe thead th {\n",
       "        text-align: right;\n",
       "    }\n",
       "</style>\n",
       "<table border=\"1\" class=\"dataframe\">\n",
       "  <thead>\n",
       "    <tr style=\"text-align: right;\">\n",
       "      <th></th>\n",
       "      <th>msno</th>\n",
       "      <th>city</th>\n",
       "      <th>bd</th>\n",
       "      <th>gender</th>\n",
       "      <th>registered_via</th>\n",
       "      <th>registration_init_time</th>\n",
       "      <th>expiration_date</th>\n",
       "    </tr>\n",
       "  </thead>\n",
       "  <tbody>\n",
       "    <tr>\n",
       "      <th>0</th>\n",
       "      <td>XQxgAYj3klVKjR3oxPPXYYFp4soD4TuBghkhMTD4oTw=</td>\n",
       "      <td>1</td>\n",
       "      <td>0</td>\n",
       "      <td>NaN</td>\n",
       "      <td>7</td>\n",
       "      <td>20110820</td>\n",
       "      <td>20170920</td>\n",
       "    </tr>\n",
       "    <tr>\n",
       "      <th>1</th>\n",
       "      <td>UizsfmJb9mV54qE9hCYyU07Va97c0lCRLEQX3ae+ztM=</td>\n",
       "      <td>1</td>\n",
       "      <td>0</td>\n",
       "      <td>NaN</td>\n",
       "      <td>7</td>\n",
       "      <td>20150628</td>\n",
       "      <td>20170622</td>\n",
       "    </tr>\n",
       "    <tr>\n",
       "      <th>2</th>\n",
       "      <td>D8nEhsIOBSoE6VthTaqDX8U6lqjJ7dLdr72mOyLya2A=</td>\n",
       "      <td>1</td>\n",
       "      <td>0</td>\n",
       "      <td>NaN</td>\n",
       "      <td>4</td>\n",
       "      <td>20160411</td>\n",
       "      <td>20170712</td>\n",
       "    </tr>\n",
       "  </tbody>\n",
       "</table>\n",
       "</div>"
      ],
      "text/plain": [
       "                                           msno  city  bd gender  \\\n",
       "0  XQxgAYj3klVKjR3oxPPXYYFp4soD4TuBghkhMTD4oTw=     1   0    NaN   \n",
       "1  UizsfmJb9mV54qE9hCYyU07Va97c0lCRLEQX3ae+ztM=     1   0    NaN   \n",
       "2  D8nEhsIOBSoE6VthTaqDX8U6lqjJ7dLdr72mOyLya2A=     1   0    NaN   \n",
       "\n",
       "   registered_via  registration_init_time  expiration_date  \n",
       "0               7                20110820         20170920  \n",
       "1               7                20150628         20170622  \n",
       "2               4                20160411         20170712  "
      ]
     },
     "execution_count": 7,
     "metadata": {},
     "output_type": "execute_result"
    }
   ],
   "source": [
    "members.head(3)"
   ]
  },
  {
   "cell_type": "code",
   "execution_count": 8,
   "id": "ac149ca3",
   "metadata": {},
   "outputs": [
    {
     "data": {
      "text/html": [
       "<div>\n",
       "<style scoped>\n",
       "    .dataframe tbody tr th:only-of-type {\n",
       "        vertical-align: middle;\n",
       "    }\n",
       "\n",
       "    .dataframe tbody tr th {\n",
       "        vertical-align: top;\n",
       "    }\n",
       "\n",
       "    .dataframe thead th {\n",
       "        text-align: right;\n",
       "    }\n",
       "</style>\n",
       "<table border=\"1\" class=\"dataframe\">\n",
       "  <thead>\n",
       "    <tr style=\"text-align: right;\">\n",
       "      <th></th>\n",
       "      <th>song_id</th>\n",
       "      <th>name</th>\n",
       "      <th>isrc</th>\n",
       "    </tr>\n",
       "  </thead>\n",
       "  <tbody>\n",
       "    <tr>\n",
       "      <th>0</th>\n",
       "      <td>LP7pLJoJFBvyuUwvu+oLzjT+bI+UeBPURCecJsX1jjs=</td>\n",
       "      <td>我們</td>\n",
       "      <td>TWUM71200043</td>\n",
       "    </tr>\n",
       "    <tr>\n",
       "      <th>1</th>\n",
       "      <td>ClazTFnk6r0Bnuie44bocdNMM3rdlrq0bCGAsGUWcHE=</td>\n",
       "      <td>Let Me Love You</td>\n",
       "      <td>QMZSY1600015</td>\n",
       "    </tr>\n",
       "    <tr>\n",
       "      <th>2</th>\n",
       "      <td>u2ja/bZE3zhCGxvbbOB3zOoUjx27u40cf5g09UXMoKQ=</td>\n",
       "      <td>原諒我</td>\n",
       "      <td>TWA530887303</td>\n",
       "    </tr>\n",
       "  </tbody>\n",
       "</table>\n",
       "</div>"
      ],
      "text/plain": [
       "                                        song_id             name          isrc\n",
       "0  LP7pLJoJFBvyuUwvu+oLzjT+bI+UeBPURCecJsX1jjs=               我們  TWUM71200043\n",
       "1  ClazTFnk6r0Bnuie44bocdNMM3rdlrq0bCGAsGUWcHE=  Let Me Love You  QMZSY1600015\n",
       "2  u2ja/bZE3zhCGxvbbOB3zOoUjx27u40cf5g09UXMoKQ=              原諒我  TWA530887303"
      ]
     },
     "execution_count": 8,
     "metadata": {},
     "output_type": "execute_result"
    }
   ],
   "source": [
    "song_info.head(3)"
   ]
  },
  {
   "cell_type": "code",
   "execution_count": 3,
   "id": "70867c88",
   "metadata": {},
   "outputs": [],
   "source": [
    "#Combining all datasets\n",
    "data1 = pd.merge(train,songs,on='song_id', how='left')\n",
    "data2 = pd.merge(data1,song_info,on='song_id', how='left')\n",
    "data =  pd.merge(data2,members,on='msno', how='left')\n",
    "del data1,data2"
   ]
  },
  {
   "cell_type": "code",
   "execution_count": 4,
   "id": "16515e2c",
   "metadata": {},
   "outputs": [
    {
     "data": {
      "text/html": [
       "<div>\n",
       "<style scoped>\n",
       "    .dataframe tbody tr th:only-of-type {\n",
       "        vertical-align: middle;\n",
       "    }\n",
       "\n",
       "    .dataframe tbody tr th {\n",
       "        vertical-align: top;\n",
       "    }\n",
       "\n",
       "    .dataframe thead th {\n",
       "        text-align: right;\n",
       "    }\n",
       "</style>\n",
       "<table border=\"1\" class=\"dataframe\">\n",
       "  <thead>\n",
       "    <tr style=\"text-align: right;\">\n",
       "      <th></th>\n",
       "      <th>msno</th>\n",
       "      <th>song_id</th>\n",
       "      <th>source_system_tab</th>\n",
       "      <th>source_screen_name</th>\n",
       "      <th>source_type</th>\n",
       "      <th>target</th>\n",
       "      <th>song_length</th>\n",
       "      <th>genre_ids</th>\n",
       "      <th>artist_name</th>\n",
       "      <th>composer</th>\n",
       "      <th>lyricist</th>\n",
       "      <th>language</th>\n",
       "      <th>name</th>\n",
       "      <th>isrc</th>\n",
       "      <th>city</th>\n",
       "      <th>bd</th>\n",
       "      <th>gender</th>\n",
       "      <th>registered_via</th>\n",
       "      <th>registration_init_time</th>\n",
       "      <th>expiration_date</th>\n",
       "    </tr>\n",
       "  </thead>\n",
       "  <tbody>\n",
       "    <tr>\n",
       "      <th>0</th>\n",
       "      <td>FGtllVqz18RPiwJj/edr2gV78zirAiY/9SmYvia+kCg=</td>\n",
       "      <td>BBzumQNXUHKdEBOB7mAJuzok+IJA1c2Ryg/yzTF6tik=</td>\n",
       "      <td>explore</td>\n",
       "      <td>Explore</td>\n",
       "      <td>online-playlist</td>\n",
       "      <td>1</td>\n",
       "      <td>206471.0</td>\n",
       "      <td>359</td>\n",
       "      <td>Bastille</td>\n",
       "      <td>Dan Smith| Mark Crew</td>\n",
       "      <td>NaN</td>\n",
       "      <td>52.0</td>\n",
       "      <td>Good Grief</td>\n",
       "      <td>GBUM71602854</td>\n",
       "      <td>1</td>\n",
       "      <td>0</td>\n",
       "      <td>NaN</td>\n",
       "      <td>7</td>\n",
       "      <td>20120102</td>\n",
       "      <td>20171005</td>\n",
       "    </tr>\n",
       "    <tr>\n",
       "      <th>1</th>\n",
       "      <td>Xumu+NIjS6QYVxDS4/t3SawvJ7viT9hPKXmf0RtLNx8=</td>\n",
       "      <td>bhp/MpSNoqoxOIB+/l8WPqu6jldth4DIpCm3ayXnJqM=</td>\n",
       "      <td>my library</td>\n",
       "      <td>Local playlist more</td>\n",
       "      <td>local-playlist</td>\n",
       "      <td>1</td>\n",
       "      <td>284584.0</td>\n",
       "      <td>1259</td>\n",
       "      <td>Various Artists</td>\n",
       "      <td>NaN</td>\n",
       "      <td>NaN</td>\n",
       "      <td>52.0</td>\n",
       "      <td>Lords of Cardboard</td>\n",
       "      <td>US3C69910183</td>\n",
       "      <td>13</td>\n",
       "      <td>24</td>\n",
       "      <td>female</td>\n",
       "      <td>9</td>\n",
       "      <td>20110525</td>\n",
       "      <td>20170911</td>\n",
       "    </tr>\n",
       "    <tr>\n",
       "      <th>2</th>\n",
       "      <td>Xumu+NIjS6QYVxDS4/t3SawvJ7viT9hPKXmf0RtLNx8=</td>\n",
       "      <td>JNWfrrC7zNN7BdMpsISKa4Mw+xVJYNnxXh3/Epw7QgY=</td>\n",
       "      <td>my library</td>\n",
       "      <td>Local playlist more</td>\n",
       "      <td>local-playlist</td>\n",
       "      <td>1</td>\n",
       "      <td>225396.0</td>\n",
       "      <td>1259</td>\n",
       "      <td>Nas</td>\n",
       "      <td>N. Jones、W. Adams、J. Lordan、D. Ingle</td>\n",
       "      <td>NaN</td>\n",
       "      <td>52.0</td>\n",
       "      <td>Hip Hop Is Dead(Album Version (Edited))</td>\n",
       "      <td>USUM70618761</td>\n",
       "      <td>13</td>\n",
       "      <td>24</td>\n",
       "      <td>female</td>\n",
       "      <td>9</td>\n",
       "      <td>20110525</td>\n",
       "      <td>20170911</td>\n",
       "    </tr>\n",
       "  </tbody>\n",
       "</table>\n",
       "</div>"
      ],
      "text/plain": [
       "                                           msno  \\\n",
       "0  FGtllVqz18RPiwJj/edr2gV78zirAiY/9SmYvia+kCg=   \n",
       "1  Xumu+NIjS6QYVxDS4/t3SawvJ7viT9hPKXmf0RtLNx8=   \n",
       "2  Xumu+NIjS6QYVxDS4/t3SawvJ7viT9hPKXmf0RtLNx8=   \n",
       "\n",
       "                                        song_id source_system_tab  \\\n",
       "0  BBzumQNXUHKdEBOB7mAJuzok+IJA1c2Ryg/yzTF6tik=           explore   \n",
       "1  bhp/MpSNoqoxOIB+/l8WPqu6jldth4DIpCm3ayXnJqM=        my library   \n",
       "2  JNWfrrC7zNN7BdMpsISKa4Mw+xVJYNnxXh3/Epw7QgY=        my library   \n",
       "\n",
       "    source_screen_name      source_type  target  song_length genre_ids  \\\n",
       "0              Explore  online-playlist       1     206471.0       359   \n",
       "1  Local playlist more   local-playlist       1     284584.0      1259   \n",
       "2  Local playlist more   local-playlist       1     225396.0      1259   \n",
       "\n",
       "       artist_name                              composer lyricist  language  \\\n",
       "0         Bastille                  Dan Smith| Mark Crew      NaN      52.0   \n",
       "1  Various Artists                                   NaN      NaN      52.0   \n",
       "2              Nas  N. Jones、W. Adams、J. Lordan、D. Ingle      NaN      52.0   \n",
       "\n",
       "                                      name          isrc  city  bd  gender  \\\n",
       "0                               Good Grief  GBUM71602854     1   0     NaN   \n",
       "1                       Lords of Cardboard  US3C69910183    13  24  female   \n",
       "2  Hip Hop Is Dead(Album Version (Edited))  USUM70618761    13  24  female   \n",
       "\n",
       "   registered_via  registration_init_time  expiration_date  \n",
       "0               7                20120102         20171005  \n",
       "1               9                20110525         20170911  \n",
       "2               9                20110525         20170911  "
      ]
     },
     "execution_count": 4,
     "metadata": {},
     "output_type": "execute_result"
    }
   ],
   "source": [
    "#Final detaset\n",
    "data.head(3)"
   ]
  },
  {
   "cell_type": "code",
   "execution_count": 5,
   "id": "c6b5d0c5",
   "metadata": {
    "tags": []
   },
   "outputs": [
    {
     "data": {
      "text/plain": [
       "(7377418, 20)"
      ]
     },
     "execution_count": 5,
     "metadata": {},
     "output_type": "execute_result"
    }
   ],
   "source": [
    "data.shape"
   ]
  },
  {
   "cell_type": "code",
   "execution_count": 12,
   "id": "e2d3f1c3",
   "metadata": {
    "scrolled": true,
    "tags": []
   },
   "outputs": [
    {
     "name": "stdout",
     "output_type": "stream",
     "text": [
      "<class 'pandas.core.frame.DataFrame'>\n",
      "Int64Index: 7377418 entries, 0 to 7377417\n",
      "Data columns (total 20 columns):\n",
      " #   Column                  Dtype  \n",
      "---  ------                  -----  \n",
      " 0   msno                    object \n",
      " 1   song_id                 object \n",
      " 2   source_system_tab       object \n",
      " 3   source_screen_name      object \n",
      " 4   source_type             object \n",
      " 5   target                  int64  \n",
      " 6   song_length             float64\n",
      " 7   genre_ids               object \n",
      " 8   artist_name             object \n",
      " 9   composer                object \n",
      " 10  lyricist                object \n",
      " 11  language                float64\n",
      " 12  name                    object \n",
      " 13  isrc                    object \n",
      " 14  city                    int64  \n",
      " 15  bd                      int64  \n",
      " 16  gender                  object \n",
      " 17  registered_via          int64  \n",
      " 18  registration_init_time  int64  \n",
      " 19  expiration_date         int64  \n",
      "dtypes: float64(2), int64(6), object(12)\n",
      "memory usage: 1.2+ GB\n"
     ]
    }
   ],
   "source": [
    "#Checking for columns and their datatypes\n",
    "data.info()"
   ]
  },
  {
   "cell_type": "code",
   "execution_count": 13,
   "id": "2465d987",
   "metadata": {},
   "outputs": [
    {
     "data": {
      "text/plain": [
       "msno                            0\n",
       "song_id                         0\n",
       "source_system_tab           24849\n",
       "source_screen_name         414804\n",
       "source_type                 21539\n",
       "target                          0\n",
       "song_length                   114\n",
       "genre_ids                  118455\n",
       "artist_name                   114\n",
       "composer                  1675706\n",
       "lyricist                  3178798\n",
       "language                      150\n",
       "name                         1457\n",
       "isrc                       577858\n",
       "city                            0\n",
       "bd                              0\n",
       "gender                    2961479\n",
       "registered_via                  0\n",
       "registration_init_time          0\n",
       "expiration_date                 0\n",
       "dtype: int64"
      ]
     },
     "execution_count": 13,
     "metadata": {},
     "output_type": "execute_result"
    }
   ],
   "source": [
    "#Checking missing values\n",
    "data.isnull().sum()"
   ]
  },
  {
   "cell_type": "markdown",
   "id": "0f352b2b",
   "metadata": {},
   "source": [
    "There is lot of data missing. Let us calculate % of data missing in each columns"
   ]
  },
  {
   "cell_type": "code",
   "execution_count": 14,
   "id": "921a8555",
   "metadata": {},
   "outputs": [
    {
     "data": {
      "text/plain": [
       "lyricist                  43.088219\n",
       "gender                    40.142486\n",
       "composer                  22.713990\n",
       "isrc                       7.832795\n",
       "source_screen_name         5.622618\n",
       "genre_ids                  1.605643\n",
       "source_system_tab          0.336825\n",
       "source_type                0.291959\n",
       "name                       0.019749\n",
       "language                   0.002033\n",
       "artist_name                0.001545\n",
       "song_length                0.001545\n",
       "target                     0.000000\n",
       "song_id                    0.000000\n",
       "expiration_date            0.000000\n",
       "registration_init_time     0.000000\n",
       "city                       0.000000\n",
       "bd                         0.000000\n",
       "registered_via             0.000000\n",
       "msno                       0.000000\n",
       "dtype: float64"
      ]
     },
     "execution_count": 14,
     "metadata": {},
     "output_type": "execute_result"
    }
   ],
   "source": [
    "#Calculating % of data missing \n",
    "((data.isnull().sum()/len(data))*100).sort_values(ascending=False)"
   ]
  },
  {
   "cell_type": "markdown",
   "id": "9fed9ec2",
   "metadata": {},
   "source": [
    "Percentage of missing values is high in columns \"lyricst\",\"gender\" and \"composer\", however it is not ideal to drop these columns as this data is crucial in identifying taste of individuals in songs and indirectly will help us predict if the song will be replayed.\n",
    "\n",
    "We shall follow the following steps to remove null values:\n",
    "- missing data in numerical columns will be replaced by its corresponding median values.\n",
    "- in other columns we shall replace null values by \"Unknown\""
   ]
  },
  {
   "cell_type": "code",
   "execution_count": 6,
   "id": "60f7fb33",
   "metadata": {},
   "outputs": [
    {
     "data": {
      "text/plain": [
       "Index(['msno', 'song_id', 'source_system_tab', 'source_screen_name',\n",
       "       'source_type', 'genre_ids', 'artist_name', 'composer', 'lyricist',\n",
       "       'name', 'isrc', 'gender'],\n",
       "      dtype='object')"
      ]
     },
     "execution_count": 6,
     "metadata": {},
     "output_type": "execute_result"
    }
   ],
   "source": [
    "#Extracting non-numeric columns\n",
    "data.select_dtypes(include=\"object\").columns"
   ]
  },
  {
   "cell_type": "code",
   "execution_count": 4,
   "id": "1b94f49a",
   "metadata": {},
   "outputs": [],
   "source": [
    "#Replacing missing values in non-numeric columns with 'unknown'\n",
    "cols_obj = data.select_dtypes(include=\"object\").columns\n",
    "data[cols_obj]=data[cols_obj].fillna(value='unknown')"
   ]
  },
  {
   "cell_type": "code",
   "execution_count": 5,
   "id": "6233a532",
   "metadata": {},
   "outputs": [],
   "source": [
    "#Extracting numeric columns\n",
    "cols_num = data.select_dtypes(include=\"number\").columns"
   ]
  },
  {
   "cell_type": "code",
   "execution_count": 6,
   "id": "d76b7e97",
   "metadata": {},
   "outputs": [],
   "source": [
    "#Replacing missing values in numeric columns with respective median\n",
    "for col in cols_num:\n",
    "    data[col]=data[col].fillna(value= data[col].median())"
   ]
  },
  {
   "cell_type": "code",
   "execution_count": 7,
   "id": "a12cbb6a",
   "metadata": {
    "scrolled": true
   },
   "outputs": [
    {
     "data": {
      "text/plain": [
       "msno                      0\n",
       "song_id                   0\n",
       "source_system_tab         0\n",
       "source_screen_name        0\n",
       "source_type               0\n",
       "target                    0\n",
       "song_length               0\n",
       "genre_ids                 0\n",
       "artist_name               0\n",
       "composer                  0\n",
       "lyricist                  0\n",
       "language                  0\n",
       "name                      0\n",
       "isrc                      0\n",
       "city                      0\n",
       "bd                        0\n",
       "gender                    0\n",
       "registered_via            0\n",
       "registration_init_time    0\n",
       "expiration_date           0\n",
       "dtype: int64"
      ]
     },
     "execution_count": 7,
     "metadata": {},
     "output_type": "execute_result"
    }
   ],
   "source": [
    "#Rechecking for missing data\n",
    "data.isnull().sum()"
   ]
  },
  {
   "cell_type": "code",
   "execution_count": 20,
   "id": "97536952",
   "metadata": {},
   "outputs": [
    {
     "data": {
      "text/plain": [
       "0"
      ]
     },
     "execution_count": 20,
     "metadata": {},
     "output_type": "execute_result"
    }
   ],
   "source": [
    "#Checking for Duplicates\n",
    "data.duplicated().sum()"
   ]
  },
  {
   "cell_type": "markdown",
   "id": "134c80c8",
   "metadata": {},
   "source": [
    "#### Extracting date"
   ]
  },
  {
   "cell_type": "code",
   "execution_count": 8,
   "id": "15c60e76",
   "metadata": {},
   "outputs": [],
   "source": [
    "#Converting date columns to datetime format and extracting details\n",
    "data['registration_init_time'] = pd.to_datetime(data['registration_init_time'], format = \"%Y%m%d\")\n",
    "\n",
    "data['registration_init_year'] = data['registration_init_time'].dt.year\n",
    "data['registration_init_month'] = data['registration_init_time'].dt.month\n",
    "data['registration_init_date'] = data['registration_init_time'].dt.day"
   ]
  },
  {
   "cell_type": "code",
   "execution_count": 9,
   "id": "a541756d",
   "metadata": {},
   "outputs": [],
   "source": [
    "data['expiration_date'] = pd.to_datetime(data['expiration_date'], format = \"%Y%m%d\")\n",
    "\n",
    "data['expiration_date_year'] = data['expiration_date'].dt.year\n",
    "data['expiration_date_month'] = data['expiration_date'].dt.month\n",
    "data['expiration_date_date'] = data['expiration_date'].dt.day"
   ]
  },
  {
   "cell_type": "code",
   "execution_count": 10,
   "id": "3df5590a-d66f-4e41-9159-235c22a9ad84",
   "metadata": {},
   "outputs": [],
   "source": [
    "#Dropping registration_init_time and expiration_date column as features have been extracted\n",
    "data.drop(['registration_init_time', 'expiration_date'], axis=1, inplace=True)"
   ]
  },
  {
   "cell_type": "code",
   "execution_count": 24,
   "id": "dc4ba46d",
   "metadata": {
    "scrolled": true
   },
   "outputs": [
    {
     "data": {
      "text/html": [
       "<div>\n",
       "<style scoped>\n",
       "    .dataframe tbody tr th:only-of-type {\n",
       "        vertical-align: middle;\n",
       "    }\n",
       "\n",
       "    .dataframe tbody tr th {\n",
       "        vertical-align: top;\n",
       "    }\n",
       "\n",
       "    .dataframe thead th {\n",
       "        text-align: right;\n",
       "    }\n",
       "</style>\n",
       "<table border=\"1\" class=\"dataframe\">\n",
       "  <thead>\n",
       "    <tr style=\"text-align: right;\">\n",
       "      <th></th>\n",
       "      <th>msno</th>\n",
       "      <th>song_id</th>\n",
       "      <th>source_system_tab</th>\n",
       "      <th>source_screen_name</th>\n",
       "      <th>source_type</th>\n",
       "      <th>target</th>\n",
       "      <th>song_length</th>\n",
       "      <th>genre_ids</th>\n",
       "      <th>artist_name</th>\n",
       "      <th>composer</th>\n",
       "      <th>...</th>\n",
       "      <th>city</th>\n",
       "      <th>bd</th>\n",
       "      <th>gender</th>\n",
       "      <th>registered_via</th>\n",
       "      <th>registration_init_year</th>\n",
       "      <th>registration_init_month</th>\n",
       "      <th>registration_init_date</th>\n",
       "      <th>expiration_date_year</th>\n",
       "      <th>expiration_date_month</th>\n",
       "      <th>expiration_date_date</th>\n",
       "    </tr>\n",
       "  </thead>\n",
       "  <tbody>\n",
       "    <tr>\n",
       "      <th>0</th>\n",
       "      <td>FGtllVqz18RPiwJj/edr2gV78zirAiY/9SmYvia+kCg=</td>\n",
       "      <td>BBzumQNXUHKdEBOB7mAJuzok+IJA1c2Ryg/yzTF6tik=</td>\n",
       "      <td>explore</td>\n",
       "      <td>Explore</td>\n",
       "      <td>online-playlist</td>\n",
       "      <td>1</td>\n",
       "      <td>206471.0</td>\n",
       "      <td>359</td>\n",
       "      <td>Bastille</td>\n",
       "      <td>Dan Smith| Mark Crew</td>\n",
       "      <td>...</td>\n",
       "      <td>1</td>\n",
       "      <td>0</td>\n",
       "      <td>unknown</td>\n",
       "      <td>7</td>\n",
       "      <td>2012</td>\n",
       "      <td>1</td>\n",
       "      <td>2</td>\n",
       "      <td>2017</td>\n",
       "      <td>10</td>\n",
       "      <td>5</td>\n",
       "    </tr>\n",
       "    <tr>\n",
       "      <th>1</th>\n",
       "      <td>Xumu+NIjS6QYVxDS4/t3SawvJ7viT9hPKXmf0RtLNx8=</td>\n",
       "      <td>bhp/MpSNoqoxOIB+/l8WPqu6jldth4DIpCm3ayXnJqM=</td>\n",
       "      <td>my library</td>\n",
       "      <td>Local playlist more</td>\n",
       "      <td>local-playlist</td>\n",
       "      <td>1</td>\n",
       "      <td>284584.0</td>\n",
       "      <td>1259</td>\n",
       "      <td>Various Artists</td>\n",
       "      <td>unknown</td>\n",
       "      <td>...</td>\n",
       "      <td>13</td>\n",
       "      <td>24</td>\n",
       "      <td>female</td>\n",
       "      <td>9</td>\n",
       "      <td>2011</td>\n",
       "      <td>5</td>\n",
       "      <td>25</td>\n",
       "      <td>2017</td>\n",
       "      <td>9</td>\n",
       "      <td>11</td>\n",
       "    </tr>\n",
       "  </tbody>\n",
       "</table>\n",
       "<p>2 rows × 24 columns</p>\n",
       "</div>"
      ],
      "text/plain": [
       "                                           msno  \\\n",
       "0  FGtllVqz18RPiwJj/edr2gV78zirAiY/9SmYvia+kCg=   \n",
       "1  Xumu+NIjS6QYVxDS4/t3SawvJ7viT9hPKXmf0RtLNx8=   \n",
       "\n",
       "                                        song_id source_system_tab  \\\n",
       "0  BBzumQNXUHKdEBOB7mAJuzok+IJA1c2Ryg/yzTF6tik=           explore   \n",
       "1  bhp/MpSNoqoxOIB+/l8WPqu6jldth4DIpCm3ayXnJqM=        my library   \n",
       "\n",
       "    source_screen_name      source_type  target  song_length genre_ids  \\\n",
       "0              Explore  online-playlist       1     206471.0       359   \n",
       "1  Local playlist more   local-playlist       1     284584.0      1259   \n",
       "\n",
       "       artist_name              composer  ... city  bd   gender  \\\n",
       "0         Bastille  Dan Smith| Mark Crew  ...    1   0  unknown   \n",
       "1  Various Artists               unknown  ...   13  24   female   \n",
       "\n",
       "  registered_via  registration_init_year  registration_init_month  \\\n",
       "0              7                    2012                        1   \n",
       "1              9                    2011                        5   \n",
       "\n",
       "  registration_init_date  expiration_date_year  expiration_date_month  \\\n",
       "0                      2                  2017                     10   \n",
       "1                     25                  2017                      9   \n",
       "\n",
       "   expiration_date_date  \n",
       "0                     5  \n",
       "1                    11  \n",
       "\n",
       "[2 rows x 24 columns]"
      ]
     },
     "execution_count": 24,
     "metadata": {},
     "output_type": "execute_result"
    }
   ],
   "source": [
    "data.head(2)"
   ]
  },
  {
   "cell_type": "markdown",
   "id": "0e40daf4",
   "metadata": {},
   "source": [
    "#### Encoding"
   ]
  },
  {
   "cell_type": "code",
   "execution_count": 11,
   "id": "87dae533",
   "metadata": {},
   "outputs": [
    {
     "data": {
      "text/plain": [
       "Index(['msno', 'song_id', 'source_system_tab', 'source_screen_name',\n",
       "       'source_type', 'genre_ids', 'artist_name', 'composer', 'lyricist',\n",
       "       'name', 'isrc', 'gender'],\n",
       "      dtype='object')"
      ]
     },
     "execution_count": 11,
     "metadata": {},
     "output_type": "execute_result"
    }
   ],
   "source": [
    "#Extracting non-numeric columns for encoding\n",
    "cols_cat= data.select_dtypes(include='object').columns\n",
    "cols_cat"
   ]
  },
  {
   "cell_type": "code",
   "execution_count": 12,
   "id": "a0ef6e90",
   "metadata": {
    "scrolled": true
   },
   "outputs": [],
   "source": [
    "#Applying Laber Encoder \n",
    "le = LabelEncoder()\n",
    "data[cols_cat] = data[cols_cat].apply(le.fit_transform)"
   ]
  },
  {
   "cell_type": "code",
   "execution_count": 13,
   "id": "7861b4da",
   "metadata": {},
   "outputs": [
    {
     "data": {
      "text/html": [
       "<div>\n",
       "<style scoped>\n",
       "    .dataframe tbody tr th:only-of-type {\n",
       "        vertical-align: middle;\n",
       "    }\n",
       "\n",
       "    .dataframe tbody tr th {\n",
       "        vertical-align: top;\n",
       "    }\n",
       "\n",
       "    .dataframe thead th {\n",
       "        text-align: right;\n",
       "    }\n",
       "</style>\n",
       "<table border=\"1\" class=\"dataframe\">\n",
       "  <thead>\n",
       "    <tr style=\"text-align: right;\">\n",
       "      <th></th>\n",
       "      <th>msno</th>\n",
       "      <th>song_id</th>\n",
       "      <th>source_system_tab</th>\n",
       "      <th>source_screen_name</th>\n",
       "      <th>source_type</th>\n",
       "      <th>target</th>\n",
       "      <th>song_length</th>\n",
       "      <th>genre_ids</th>\n",
       "      <th>artist_name</th>\n",
       "      <th>composer</th>\n",
       "      <th>...</th>\n",
       "      <th>city</th>\n",
       "      <th>bd</th>\n",
       "      <th>gender</th>\n",
       "      <th>registered_via</th>\n",
       "      <th>registration_init_year</th>\n",
       "      <th>registration_init_month</th>\n",
       "      <th>registration_init_date</th>\n",
       "      <th>expiration_date_year</th>\n",
       "      <th>expiration_date_month</th>\n",
       "      <th>expiration_date_date</th>\n",
       "    </tr>\n",
       "  </thead>\n",
       "  <tbody>\n",
       "    <tr>\n",
       "      <th>0</th>\n",
       "      <td>8158</td>\n",
       "      <td>74679</td>\n",
       "      <td>1</td>\n",
       "      <td>7</td>\n",
       "      <td>6</td>\n",
       "      <td>1</td>\n",
       "      <td>206471.0</td>\n",
       "      <td>285</td>\n",
       "      <td>3277</td>\n",
       "      <td>14581</td>\n",
       "      <td>...</td>\n",
       "      <td>1</td>\n",
       "      <td>0</td>\n",
       "      <td>2</td>\n",
       "      <td>7</td>\n",
       "      <td>2012</td>\n",
       "      <td>1</td>\n",
       "      <td>2</td>\n",
       "      <td>2017</td>\n",
       "      <td>10</td>\n",
       "      <td>5</td>\n",
       "    </tr>\n",
       "    <tr>\n",
       "      <th>1</th>\n",
       "      <td>17259</td>\n",
       "      <td>223479</td>\n",
       "      <td>3</td>\n",
       "      <td>8</td>\n",
       "      <td>4</td>\n",
       "      <td>1</td>\n",
       "      <td>284584.0</td>\n",
       "      <td>90</td>\n",
       "      <td>31960</td>\n",
       "      <td>64996</td>\n",
       "      <td>...</td>\n",
       "      <td>13</td>\n",
       "      <td>24</td>\n",
       "      <td>0</td>\n",
       "      <td>9</td>\n",
       "      <td>2011</td>\n",
       "      <td>5</td>\n",
       "      <td>25</td>\n",
       "      <td>2017</td>\n",
       "      <td>9</td>\n",
       "      <td>11</td>\n",
       "    </tr>\n",
       "    <tr>\n",
       "      <th>2</th>\n",
       "      <td>17259</td>\n",
       "      <td>120758</td>\n",
       "      <td>3</td>\n",
       "      <td>8</td>\n",
       "      <td>4</td>\n",
       "      <td>1</td>\n",
       "      <td>225396.0</td>\n",
       "      <td>90</td>\n",
       "      <td>21372</td>\n",
       "      <td>45057</td>\n",
       "      <td>...</td>\n",
       "      <td>13</td>\n",
       "      <td>24</td>\n",
       "      <td>0</td>\n",
       "      <td>9</td>\n",
       "      <td>2011</td>\n",
       "      <td>5</td>\n",
       "      <td>25</td>\n",
       "      <td>2017</td>\n",
       "      <td>9</td>\n",
       "      <td>11</td>\n",
       "    </tr>\n",
       "  </tbody>\n",
       "</table>\n",
       "<p>3 rows × 24 columns</p>\n",
       "</div>"
      ],
      "text/plain": [
       "    msno  song_id  source_system_tab  source_screen_name  source_type  target  \\\n",
       "0   8158    74679                  1                   7            6       1   \n",
       "1  17259   223479                  3                   8            4       1   \n",
       "2  17259   120758                  3                   8            4       1   \n",
       "\n",
       "   song_length  genre_ids  artist_name  composer  ...  city  bd  gender  \\\n",
       "0     206471.0        285         3277     14581  ...     1   0       2   \n",
       "1     284584.0         90        31960     64996  ...    13  24       0   \n",
       "2     225396.0         90        21372     45057  ...    13  24       0   \n",
       "\n",
       "   registered_via  registration_init_year  registration_init_month  \\\n",
       "0               7                    2012                        1   \n",
       "1               9                    2011                        5   \n",
       "2               9                    2011                        5   \n",
       "\n",
       "   registration_init_date  expiration_date_year  expiration_date_month  \\\n",
       "0                       2                  2017                     10   \n",
       "1                      25                  2017                      9   \n",
       "2                      25                  2017                      9   \n",
       "\n",
       "   expiration_date_date  \n",
       "0                     5  \n",
       "1                    11  \n",
       "2                    11  \n",
       "\n",
       "[3 rows x 24 columns]"
      ]
     },
     "execution_count": 13,
     "metadata": {},
     "output_type": "execute_result"
    }
   ],
   "source": [
    "data.head(3)"
   ]
  },
  {
   "cell_type": "code",
   "execution_count": 28,
   "id": "566da01b",
   "metadata": {},
   "outputs": [
    {
     "data": {
      "image/png": "[encoded data removed]",
      "text/plain": [
       "<Figure size 1800x1080 with 2 Axes>"
      ]
     },
     "metadata": {
      "needs_background": "light"
     },
     "output_type": "display_data"
    }
   ],
   "source": [
    "#Checking heatmap and correlation among columns\n",
    "plt.figure(figsize=(25,15))\n",
    "corr = data.corr()\n",
    "sns.heatmap(corr,cmap = 'bwr', annot=True)\n",
    "plt.show()"
   ]
  },
  {
   "cell_type": "code",
   "execution_count": 14,
   "id": "f2a983eb",
   "metadata": {},
   "outputs": [],
   "source": [
    "#Splitting input and output columns\n",
    "X = data.drop(\"target\",axis=1)\n",
    "y = data.target"
   ]
  },
  {
   "cell_type": "markdown",
   "id": "77b82df6-fc4f-4cc6-a0fc-f48632d47b42",
   "metadata": {},
   "source": [
    "#### Scaling"
   ]
  },
  {
   "cell_type": "code",
   "execution_count": 15,
   "id": "91bdeb69",
   "metadata": {},
   "outputs": [],
   "source": [
    "#Scaling input column\n",
    "scaler = StandardScaler()\n",
    "X_scaled = pd.DataFrame(scaler.fit_transform(X), columns = X.columns)"
   ]
  },
  {
   "cell_type": "markdown",
   "id": "8dcfa08f-4b83-4ce7-9329-d12d277bbe13",
   "metadata": {},
   "source": [
    "#### Train Test Split"
   ]
  },
  {
   "cell_type": "code",
   "execution_count": 16,
   "id": "19d0c457",
   "metadata": {},
   "outputs": [],
   "source": [
    "#train test split\n",
    "train_X, test_X, train_y, test_y = train_test_split(X_scaled, y, test_size=0.3)"
   ]
  },
  {
   "cell_type": "markdown",
   "id": "1234f8d1-ca64-48fb-8353-0e9c739433b0",
   "metadata": {},
   "source": [
    "### Model building"
   ]
  },
  {
   "cell_type": "code",
   "execution_count": 17,
   "id": "a05d5609-2cdc-477f-bd50-d7e98ed3032f",
   "metadata": {},
   "outputs": [],
   "source": [
    "def ML(model):\n",
    "    print('Train Score: {}'.format(model.score(train_X, train_y)))  \n",
    "    print('Test Score: {}'.format(model.score(test_X, test_y)))  \n",
    "    print('\\n')\n",
    "    print('----------------------------')\n",
    "    print('\\n')\n",
    "    \n",
    "    pred_y =model.predict(test_X)\n",
    "    \n",
    "    #Confusion Matrix\n",
    "    print('Confusion Matrix')\n",
    "    print('\\n')\n",
    "    cm = confusion_matrix(pred_y, test_y)\n",
    "    ConfusionMatrixDisplay(cm).plot()\n",
    "    plt.show()\n",
    "    print('\\n')\n",
    "    print('----------------------------')\n",
    "    print('\\n')\n",
    "    \n",
    "    #Classification Report\n",
    "    print('Classification Report')\n",
    "    print('\\n')\n",
    "    print(classification_report(pred_y, test_y))\n",
    "    print('\\n')\n",
    "    print('----------------------------')\n",
    "    print('\\n')\n",
    "    \n",
    "    #Accuracy Score\n",
    "    print('Accuracy Score')\n",
    "    global accuracy\n",
    "    print('\\n')\n",
    "    accuracy = round((accuracy_score(test_y,pred_y)),4)\n",
    "    print(\"Test Accuracy of {}  : {}\".format(model, accuracy*100))\n",
    "    print('\\n')\n",
    "    print('----------------------------')\n",
    "    print('\\n')\n",
    "    \n",
    "    #Cross Validation Score\n",
    "    print('Cross Validation Score')\n",
    "    global Cross_val\n",
    "    print('\\n')\n",
    "    Cross_val = round((cross_val_score(model, test_X,test_y, cv=5).mean()),4)     \n",
    "    print(\"Cross-Validation Accuracy Scores: \",Cross_val*100)\n",
    "    \n",
    "    return accuracy, Cross_val"
   ]
  },
  {
   "cell_type": "markdown",
   "id": "db5c21ca-3e49-42a3-9eab-f18fbc7f146b",
   "metadata": {
    "tags": []
   },
   "source": [
    "### Model 1 : Logistic Regresssion"
   ]
  },
  {
   "cell_type": "code",
   "execution_count": 33,
   "id": "45d5e6da-2bfd-4f44-bcd4-8f50339d2e26",
   "metadata": {},
   "outputs": [
    {
     "data": {
      "text/plain": [
       "LogisticRegression()"
      ]
     },
     "execution_count": 33,
     "metadata": {},
     "output_type": "execute_result"
    }
   ],
   "source": [
    "LR = LogisticRegression()\n",
    "LR.fit(train_X, train_y)"
   ]
  },
  {
   "cell_type": "code",
   "execution_count": 34,
   "id": "aa35e1de-402c-41f0-8de2-970c05baeb14",
   "metadata": {
    "tags": []
   },
   "outputs": [
    {
     "name": "stdout",
     "output_type": "stream",
     "text": [
      "Train Score: 0.5896053051474461\n",
      "Test Score: 0.5898615866612809\n",
      "\n",
      "\n",
      "----------------------------\n",
      "\n",
      "\n",
      "Confusion Matrix\n",
      "\n",
      "\n"
     ]
    },
    {
     "data": {
      "image/png": "[encoded data removed]",
      "text/plain": [
       "<Figure size 432x288 with 2 Axes>"
      ]
     },
     "metadata": {
      "needs_background": "light"
     },
     "output_type": "display_data"
    },
    {
     "name": "stdout",
     "output_type": "stream",
     "text": [
      "\n",
      "\n",
      "----------------------------\n",
      "\n",
      "\n",
      "Classification Report\n",
      "\n",
      "\n",
      "              precision    recall  f1-score   support\n",
      "\n",
      "           0       0.56      0.59      0.57   1032247\n",
      "           1       0.62      0.59      0.60   1180979\n",
      "\n",
      "    accuracy                           0.59   2213226\n",
      "   macro avg       0.59      0.59      0.59   2213226\n",
      "weighted avg       0.59      0.59      0.59   2213226\n",
      "\n",
      "\n",
      "\n",
      "----------------------------\n",
      "\n",
      "\n",
      "Accuracy Score\n",
      "\n",
      "\n",
      "Test Accuracy of LogisticRegression()  : 58.989999999999995\n",
      "\n",
      "\n",
      "----------------------------\n",
      "\n",
      "\n",
      "Cross Validation Score\n",
      "\n",
      "\n",
      "Cross-Validation Accuracy Scores:  58.98\n"
     ]
    },
    {
     "data": {
      "text/plain": [
       "(0.5899, 0.5898)"
      ]
     },
     "execution_count": 34,
     "metadata": {},
     "output_type": "execute_result"
    }
   ],
   "source": [
    "ML(LR)"
   ]
  },
  {
   "cell_type": "markdown",
   "id": "16f47362-389d-4e3c-9a22-81a23a16d336",
   "metadata": {},
   "source": [
    "Logistic Regression model doesnt work very well with this data, let us use Decision Tree"
   ]
  },
  {
   "cell_type": "markdown",
   "id": "3afa1493-02a3-4027-8efd-0f446f2d760e",
   "metadata": {},
   "source": [
    "### Model 2 : Decision Tree"
   ]
  },
  {
   "cell_type": "code",
   "execution_count": 18,
   "id": "fe02b20c-250f-44fe-aa05-d1b7ab53485f",
   "metadata": {},
   "outputs": [
    {
     "data": {
      "text/plain": [
       "DecisionTreeClassifier()"
      ]
     },
     "execution_count": 18,
     "metadata": {},
     "output_type": "execute_result"
    }
   ],
   "source": [
    "# fit model on training data\n",
    "decision_tree = DecisionTreeClassifier()\n",
    "decision_tree.fit(train_X, train_y)"
   ]
  },
  {
   "cell_type": "code",
   "execution_count": 36,
   "id": "0c19f316-1d80-459a-a3c1-562ce35c9586",
   "metadata": {},
   "outputs": [
    {
     "name": "stdout",
     "output_type": "stream",
     "text": [
      "Train Score: 1.0\n",
      "Test Score: 0.6366625008019967\n",
      "\n",
      "\n",
      "----------------------------\n",
      "\n",
      "\n",
      "Confusion Matrix\n",
      "\n",
      "\n"
     ]
    },
    {
     "data": {
      "image/png": "[encoded data removed]",
      "text/plain": [
       "<Figure size 432x288 with 2 Axes>"
      ]
     },
     "metadata": {
      "needs_background": "light"
     },
     "output_type": "display_data"
    },
    {
     "name": "stdout",
     "output_type": "stream",
     "text": [
      "\n",
      "\n",
      "----------------------------\n",
      "\n",
      "\n",
      "Classification Report\n",
      "\n",
      "\n",
      "              precision    recall  f1-score   support\n",
      "\n",
      "           0       0.63      0.64      0.63   1091950\n",
      "           1       0.64      0.64      0.64   1121276\n",
      "\n",
      "    accuracy                           0.64   2213226\n",
      "   macro avg       0.64      0.64      0.64   2213226\n",
      "weighted avg       0.64      0.64      0.64   2213226\n",
      "\n",
      "\n",
      "\n",
      "----------------------------\n",
      "\n",
      "\n",
      "Accuracy Score\n",
      "\n",
      "\n",
      "Test Accuracy of DecisionTreeClassifier()  : 63.67\n",
      "\n",
      "\n",
      "----------------------------\n",
      "\n",
      "\n",
      "Cross Validation Score\n",
      "\n",
      "\n",
      "Cross-Validation Accuracy Scores:  61.199999999999996\n"
     ]
    },
    {
     "data": {
      "text/plain": [
       "(0.6367, 0.612)"
      ]
     },
     "execution_count": 36,
     "metadata": {},
     "output_type": "execute_result"
    }
   ],
   "source": [
    "ML(decision_tree)"
   ]
  },
  {
   "cell_type": "markdown",
   "id": "01829d3d-1a8f-4f21-b08e-05abfd973071",
   "metadata": {},
   "source": [
    "#### Let us predict test values using Decision Tree model"
   ]
  },
  {
   "cell_type": "code",
   "execution_count": 19,
   "id": "197cc070-015c-4014-b794-d202c704e057",
   "metadata": {},
   "outputs": [
    {
     "data": {
      "text/html": [
       "<div>\n",
       "<style scoped>\n",
       "    .dataframe tbody tr th:only-of-type {\n",
       "        vertical-align: middle;\n",
       "    }\n",
       "\n",
       "    .dataframe tbody tr th {\n",
       "        vertical-align: top;\n",
       "    }\n",
       "\n",
       "    .dataframe thead th {\n",
       "        text-align: right;\n",
       "    }\n",
       "</style>\n",
       "<table border=\"1\" class=\"dataframe\">\n",
       "  <thead>\n",
       "    <tr style=\"text-align: right;\">\n",
       "      <th></th>\n",
       "      <th>id</th>\n",
       "      <th>msno</th>\n",
       "      <th>song_id</th>\n",
       "      <th>source_system_tab</th>\n",
       "      <th>source_screen_name</th>\n",
       "      <th>source_type</th>\n",
       "    </tr>\n",
       "  </thead>\n",
       "  <tbody>\n",
       "    <tr>\n",
       "      <th>0</th>\n",
       "      <td>0</td>\n",
       "      <td>V8ruy7SGk7tDm3zA51DPpn6qutt+vmKMBKa21dp54uM=</td>\n",
       "      <td>WmHKgKMlp1lQMecNdNvDMkvIycZYHnFwDT72I5sIssc=</td>\n",
       "      <td>my library</td>\n",
       "      <td>Local playlist more</td>\n",
       "      <td>local-library</td>\n",
       "    </tr>\n",
       "    <tr>\n",
       "      <th>1</th>\n",
       "      <td>1</td>\n",
       "      <td>V8ruy7SGk7tDm3zA51DPpn6qutt+vmKMBKa21dp54uM=</td>\n",
       "      <td>y/rsZ9DC7FwK5F2PK2D5mj+aOBUJAjuu3dZ14NgE0vM=</td>\n",
       "      <td>my library</td>\n",
       "      <td>Local playlist more</td>\n",
       "      <td>local-library</td>\n",
       "    </tr>\n",
       "    <tr>\n",
       "      <th>2</th>\n",
       "      <td>2</td>\n",
       "      <td>/uQAlrAkaczV+nWCd2sPF2ekvXPRipV7q0l+gbLuxjw=</td>\n",
       "      <td>8eZLFOdGVdXBSqoAv5nsLigeH2BvKXzTQYtUM53I0k4=</td>\n",
       "      <td>discover</td>\n",
       "      <td>NaN</td>\n",
       "      <td>song-based-playlist</td>\n",
       "    </tr>\n",
       "  </tbody>\n",
       "</table>\n",
       "</div>"
      ],
      "text/plain": [
       "   id                                          msno  \\\n",
       "0   0  V8ruy7SGk7tDm3zA51DPpn6qutt+vmKMBKa21dp54uM=   \n",
       "1   1  V8ruy7SGk7tDm3zA51DPpn6qutt+vmKMBKa21dp54uM=   \n",
       "2   2  /uQAlrAkaczV+nWCd2sPF2ekvXPRipV7q0l+gbLuxjw=   \n",
       "\n",
       "                                        song_id source_system_tab  \\\n",
       "0  WmHKgKMlp1lQMecNdNvDMkvIycZYHnFwDT72I5sIssc=        my library   \n",
       "1  y/rsZ9DC7FwK5F2PK2D5mj+aOBUJAjuu3dZ14NgE0vM=        my library   \n",
       "2  8eZLFOdGVdXBSqoAv5nsLigeH2BvKXzTQYtUM53I0k4=          discover   \n",
       "\n",
       "    source_screen_name          source_type  \n",
       "0  Local playlist more        local-library  \n",
       "1  Local playlist more        local-library  \n",
       "2                  NaN  song-based-playlist  "
      ]
     },
     "execution_count": 19,
     "metadata": {},
     "output_type": "execute_result"
    }
   ],
   "source": [
    "test.head(3)"
   ]
  },
  {
   "cell_type": "code",
   "execution_count": 20,
   "id": "210d923f-9257-45f7-8fb9-c4902e194e45",
   "metadata": {},
   "outputs": [],
   "source": [
    "#Combining test dataset with other datasets\n",
    "df1 = pd.merge(test,songs,on='song_id', how='left')\n",
    "df2 = pd.merge(df1,song_info,on='song_id', how='left')\n",
    "test_df =  pd.merge(df2,members,on='msno', how='left')\n",
    "del df1,df2"
   ]
  },
  {
   "cell_type": "code",
   "execution_count": 21,
   "id": "398148e8-8074-4661-a724-c5d25dc44179",
   "metadata": {},
   "outputs": [
    {
     "data": {
      "text/plain": [
       "(2556790, 20)"
      ]
     },
     "execution_count": 21,
     "metadata": {},
     "output_type": "execute_result"
    }
   ],
   "source": [
    "test_df.shape"
   ]
  },
  {
   "cell_type": "code",
   "execution_count": 40,
   "id": "f9f32c52-cf68-433b-a76e-1d39f8a35651",
   "metadata": {},
   "outputs": [
    {
     "name": "stdout",
     "output_type": "stream",
     "text": [
      "<class 'pandas.core.frame.DataFrame'>\n",
      "Int64Index: 2556790 entries, 0 to 2556789\n",
      "Data columns (total 20 columns):\n",
      " #   Column                  Dtype  \n",
      "---  ------                  -----  \n",
      " 0   id                      int64  \n",
      " 1   msno                    object \n",
      " 2   song_id                 object \n",
      " 3   source_system_tab       object \n",
      " 4   source_screen_name      object \n",
      " 5   source_type             object \n",
      " 6   song_length             float64\n",
      " 7   genre_ids               object \n",
      " 8   artist_name             object \n",
      " 9   composer                object \n",
      " 10  lyricist                object \n",
      " 11  language                float64\n",
      " 12  name                    object \n",
      " 13  isrc                    object \n",
      " 14  city                    int64  \n",
      " 15  bd                      int64  \n",
      " 16  gender                  object \n",
      " 17  registered_via          int64  \n",
      " 18  registration_init_time  int64  \n",
      " 19  expiration_date         int64  \n",
      "dtypes: float64(2), int64(6), object(12)\n",
      "memory usage: 409.6+ MB\n"
     ]
    }
   ],
   "source": [
    "test_df.info()"
   ]
  },
  {
   "cell_type": "code",
   "execution_count": 41,
   "id": "265e4d22-a9ef-4698-a351-5159cbbbe5e2",
   "metadata": {
    "tags": []
   },
   "outputs": [
    {
     "data": {
      "text/plain": [
       "id                              0\n",
       "msno                            0\n",
       "song_id                         0\n",
       "source_system_tab            8442\n",
       "source_screen_name         162883\n",
       "source_type                  7297\n",
       "song_length                    25\n",
       "genre_ids                   42110\n",
       "artist_name                    25\n",
       "composer                   619304\n",
       "lyricist                  1224744\n",
       "language                       42\n",
       "name                          778\n",
       "isrc                       196643\n",
       "city                            0\n",
       "bd                              0\n",
       "gender                    1052224\n",
       "registered_via                  0\n",
       "registration_init_time          0\n",
       "expiration_date                 0\n",
       "dtype: int64"
      ]
     },
     "execution_count": 41,
     "metadata": {},
     "output_type": "execute_result"
    }
   ],
   "source": [
    "#Checking for missing values\n",
    "test_df.isnull().sum()"
   ]
  },
  {
   "cell_type": "code",
   "execution_count": 22,
   "id": "062d5157-c5fe-4e78-b462-840ec05f31d9",
   "metadata": {},
   "outputs": [],
   "source": [
    "#Let us replace the null values as we did on our train dataset\n",
    "\n",
    "#Replacing missing values in non-numeric columns with 'unknown'\n",
    "cols_obj = test_df.select_dtypes(include=\"object\").columns\n",
    "test_df[cols_obj] = test_df[cols_obj].fillna(value='unknown')\n",
    "\n",
    "#Replacing missing values in numeric columns with respective median\n",
    "cols_num = test_df.select_dtypes(include=\"number\").columns\n",
    "for col in cols_num:\n",
    "    test_df[col] = test_df[col].fillna(value = test_df[col].median())"
   ]
  },
  {
   "cell_type": "code",
   "execution_count": 23,
   "id": "bcc2347e-cf45-47ce-ad45-171cef0748f0",
   "metadata": {},
   "outputs": [
    {
     "data": {
      "text/plain": [
       "id                        0\n",
       "msno                      0\n",
       "song_id                   0\n",
       "source_system_tab         0\n",
       "source_screen_name        0\n",
       "source_type               0\n",
       "song_length               0\n",
       "genre_ids                 0\n",
       "artist_name               0\n",
       "composer                  0\n",
       "lyricist                  0\n",
       "language                  0\n",
       "name                      0\n",
       "isrc                      0\n",
       "city                      0\n",
       "bd                        0\n",
       "gender                    0\n",
       "registered_via            0\n",
       "registration_init_time    0\n",
       "expiration_date           0\n",
       "dtype: int64"
      ]
     },
     "execution_count": 23,
     "metadata": {},
     "output_type": "execute_result"
    }
   ],
   "source": [
    "#Rechecking for missing data\n",
    "test_df.isnull().sum()"
   ]
  },
  {
   "cell_type": "markdown",
   "id": "2263b220-61dc-4f84-b664-1790fcd9bfe5",
   "metadata": {},
   "source": [
    "##### Extracting date"
   ]
  },
  {
   "cell_type": "code",
   "execution_count": 24,
   "id": "0f3a2c7e-9e23-4d36-9259-f4bf67ebee04",
   "metadata": {},
   "outputs": [],
   "source": [
    "#Converting date columns to datetime format and extracting details\n",
    "test_df['registration_init_time'] = pd.to_datetime(test_df['registration_init_time'], format = \"%Y%m%d\")\n",
    "\n",
    "test_df['registration_init_year'] = test_df['registration_init_time'].dt.year\n",
    "test_df['registration_init_month'] = test_df['registration_init_time'].dt.month\n",
    "test_df['registration_init_date'] = test_df['registration_init_time'].dt.day\n",
    "\n",
    "\n",
    "test_df['expiration_date'] = pd.to_datetime(test_df['expiration_date'], format = \"%Y%m%d\")\n",
    "\n",
    "test_df['expiration_date_year'] = test_df['expiration_date'].dt.year\n",
    "test_df['expiration_date_month'] = test_df['expiration_date'].dt.month\n",
    "test_df['expiration_date_date'] = test_df['expiration_date'].dt.day"
   ]
  },
  {
   "cell_type": "code",
   "execution_count": 25,
   "id": "9b9f1627-726d-4a93-b464-3884d1d5a200",
   "metadata": {},
   "outputs": [],
   "source": [
    "#Dropping registration_init_time and expiration_date column as features have been extracted and also dropping id column \n",
    "test_df.drop(['registration_init_time', 'expiration_date','id'], axis=1, inplace=True)"
   ]
  },
  {
   "cell_type": "code",
   "execution_count": 26,
   "id": "1ab24218-39c3-4b13-9f46-feac586802c1",
   "metadata": {},
   "outputs": [],
   "source": [
    "#Label encoding\n",
    "cols_cat= test_df.select_dtypes(include='object').columns\n",
    "test_df[cols_cat] = test_df[cols_cat].apply(le.fit_transform)"
   ]
  },
  {
   "cell_type": "code",
   "execution_count": 27,
   "id": "3768cada-ffe5-4449-aea1-4deb296c80ae",
   "metadata": {},
   "outputs": [
    {
     "data": {
      "text/html": [
       "<div>\n",
       "<style scoped>\n",
       "    .dataframe tbody tr th:only-of-type {\n",
       "        vertical-align: middle;\n",
       "    }\n",
       "\n",
       "    .dataframe tbody tr th {\n",
       "        vertical-align: top;\n",
       "    }\n",
       "\n",
       "    .dataframe thead th {\n",
       "        text-align: right;\n",
       "    }\n",
       "</style>\n",
       "<table border=\"1\" class=\"dataframe\">\n",
       "  <thead>\n",
       "    <tr style=\"text-align: right;\">\n",
       "      <th></th>\n",
       "      <th>msno</th>\n",
       "      <th>song_id</th>\n",
       "      <th>source_system_tab</th>\n",
       "      <th>source_screen_name</th>\n",
       "      <th>source_type</th>\n",
       "      <th>song_length</th>\n",
       "      <th>genre_ids</th>\n",
       "      <th>artist_name</th>\n",
       "      <th>composer</th>\n",
       "      <th>lyricist</th>\n",
       "      <th>...</th>\n",
       "      <th>city</th>\n",
       "      <th>bd</th>\n",
       "      <th>gender</th>\n",
       "      <th>registered_via</th>\n",
       "      <th>registration_init_year</th>\n",
       "      <th>registration_init_month</th>\n",
       "      <th>registration_init_date</th>\n",
       "      <th>expiration_date_year</th>\n",
       "      <th>expiration_date_month</th>\n",
       "      <th>expiration_date_date</th>\n",
       "    </tr>\n",
       "  </thead>\n",
       "  <tbody>\n",
       "    <tr>\n",
       "      <th>0</th>\n",
       "      <td>12934</td>\n",
       "      <td>122191</td>\n",
       "      <td>3</td>\n",
       "      <td>8</td>\n",
       "      <td>3</td>\n",
       "      <td>224130.0</td>\n",
       "      <td>300</td>\n",
       "      <td>24890</td>\n",
       "      <td>33218</td>\n",
       "      <td>16358</td>\n",
       "      <td>...</td>\n",
       "      <td>1</td>\n",
       "      <td>0</td>\n",
       "      <td>2</td>\n",
       "      <td>7</td>\n",
       "      <td>2016</td>\n",
       "      <td>2</td>\n",
       "      <td>19</td>\n",
       "      <td>2017</td>\n",
       "      <td>9</td>\n",
       "      <td>18</td>\n",
       "    </tr>\n",
       "    <tr>\n",
       "      <th>1</th>\n",
       "      <td>12934</td>\n",
       "      <td>217907</td>\n",
       "      <td>3</td>\n",
       "      <td>8</td>\n",
       "      <td>3</td>\n",
       "      <td>320470.0</td>\n",
       "      <td>306</td>\n",
       "      <td>24743</td>\n",
       "      <td>47677</td>\n",
       "      <td>18459</td>\n",
       "      <td>...</td>\n",
       "      <td>1</td>\n",
       "      <td>0</td>\n",
       "      <td>2</td>\n",
       "      <td>7</td>\n",
       "      <td>2016</td>\n",
       "      <td>2</td>\n",
       "      <td>19</td>\n",
       "      <td>2017</td>\n",
       "      <td>9</td>\n",
       "      <td>18</td>\n",
       "    </tr>\n",
       "    <tr>\n",
       "      <th>2</th>\n",
       "      <td>712</td>\n",
       "      <td>37385</td>\n",
       "      <td>0</td>\n",
       "      <td>22</td>\n",
       "      <td>9</td>\n",
       "      <td>315899.0</td>\n",
       "      <td>158</td>\n",
       "      <td>21878</td>\n",
       "      <td>43194</td>\n",
       "      <td>15872</td>\n",
       "      <td>...</td>\n",
       "      <td>1</td>\n",
       "      <td>0</td>\n",
       "      <td>2</td>\n",
       "      <td>4</td>\n",
       "      <td>2016</td>\n",
       "      <td>11</td>\n",
       "      <td>17</td>\n",
       "      <td>2016</td>\n",
       "      <td>11</td>\n",
       "      <td>24</td>\n",
       "    </tr>\n",
       "  </tbody>\n",
       "</table>\n",
       "<p>3 rows × 23 columns</p>\n",
       "</div>"
      ],
      "text/plain": [
       "    msno  song_id  source_system_tab  source_screen_name  source_type  \\\n",
       "0  12934   122191                  3                   8            3   \n",
       "1  12934   217907                  3                   8            3   \n",
       "2    712    37385                  0                  22            9   \n",
       "\n",
       "   song_length  genre_ids  artist_name  composer  lyricist  ...  city  bd  \\\n",
       "0     224130.0        300        24890     33218     16358  ...     1   0   \n",
       "1     320470.0        306        24743     47677     18459  ...     1   0   \n",
       "2     315899.0        158        21878     43194     15872  ...     1   0   \n",
       "\n",
       "   gender  registered_via  registration_init_year  registration_init_month  \\\n",
       "0       2               7                    2016                        2   \n",
       "1       2               7                    2016                        2   \n",
       "2       2               4                    2016                       11   \n",
       "\n",
       "   registration_init_date  expiration_date_year  expiration_date_month  \\\n",
       "0                      19                  2017                      9   \n",
       "1                      19                  2017                      9   \n",
       "2                      17                  2016                     11   \n",
       "\n",
       "   expiration_date_date  \n",
       "0                    18  \n",
       "1                    18  \n",
       "2                    24  \n",
       "\n",
       "[3 rows x 23 columns]"
      ]
     },
     "execution_count": 27,
     "metadata": {},
     "output_type": "execute_result"
    }
   ],
   "source": [
    "test_df.head(3)"
   ]
  },
  {
   "cell_type": "code",
   "execution_count": 28,
   "id": "e34df151-d3f2-4750-871f-eb491b4ae7bb",
   "metadata": {},
   "outputs": [],
   "source": [
    "#Scaling test data columns\n",
    "test_scaled = pd.DataFrame(scaler.fit_transform(test_df), columns = test_df.columns)"
   ]
  },
  {
   "cell_type": "markdown",
   "id": "35689cd1-c151-4c90-93b1-302154a8335a",
   "metadata": {},
   "source": [
    "##### Our test data is now ready for prediction"
   ]
  },
  {
   "cell_type": "code",
   "execution_count": 60,
   "id": "7ab12d2d-8454-40b7-9e1a-a7888fbac5d9",
   "metadata": {},
   "outputs": [],
   "source": [
    "Y = decision_tree.predict(test_scaled)"
   ]
  },
  {
   "cell_type": "code",
   "execution_count": 61,
   "id": "834b3cf3-935a-41ec-83a9-4d7cabda5512",
   "metadata": {},
   "outputs": [
    {
     "data": {
      "text/plain": [
       "array([0, 0, 0, ..., 1, 0, 0])"
      ]
     },
     "execution_count": 61,
     "metadata": {},
     "output_type": "execute_result"
    }
   ],
   "source": [
    "Y"
   ]
  },
  {
   "cell_type": "code",
   "execution_count": 36,
   "id": "289d1391-8aeb-4bf3-9ca0-cce92275f141",
   "metadata": {},
   "outputs": [
    {
     "name": "stdout",
     "output_type": "stream",
     "text": [
      "Cross-Validation Accuracy Scores :  60.35\n"
     ]
    }
   ],
   "source": [
    "#Cross Validation Score\n",
    "Cross_val= round((cross_val_score(decision_tree, test_scaled,Y, cv=5).mean()),4)     \n",
    "print(\"Cross-Validation Accuracy Scores : \",Cross_val*100)"
   ]
  },
  {
   "cell_type": "markdown",
   "id": "adf31d33-9c67-4524-8546-6c22788c3d33",
   "metadata": {
    "tags": []
   },
   "source": [
    "#### Our Predictions"
   ]
  },
  {
   "cell_type": "code",
   "execution_count": 69,
   "id": "2b001afd-c3a0-453c-8c62-3b5ef56b5f76",
   "metadata": {
    "tags": []
   },
   "outputs": [
    {
     "data": {
      "text/html": [
       "<div>\n",
       "<style scoped>\n",
       "    .dataframe tbody tr th:only-of-type {\n",
       "        vertical-align: middle;\n",
       "    }\n",
       "\n",
       "    .dataframe tbody tr th {\n",
       "        vertical-align: top;\n",
       "    }\n",
       "\n",
       "    .dataframe thead th {\n",
       "        text-align: right;\n",
       "    }\n",
       "</style>\n",
       "<table border=\"1\" class=\"dataframe\">\n",
       "  <thead>\n",
       "    <tr style=\"text-align: right;\">\n",
       "      <th></th>\n",
       "      <th>target</th>\n",
       "    </tr>\n",
       "  </thead>\n",
       "  <tbody>\n",
       "    <tr>\n",
       "      <th>0</th>\n",
       "      <td>0</td>\n",
       "    </tr>\n",
       "    <tr>\n",
       "      <th>1</th>\n",
       "      <td>0</td>\n",
       "    </tr>\n",
       "    <tr>\n",
       "      <th>2</th>\n",
       "      <td>0</td>\n",
       "    </tr>\n",
       "    <tr>\n",
       "      <th>3</th>\n",
       "      <td>1</td>\n",
       "    </tr>\n",
       "    <tr>\n",
       "      <th>4</th>\n",
       "      <td>0</td>\n",
       "    </tr>\n",
       "    <tr>\n",
       "      <th>...</th>\n",
       "      <td>...</td>\n",
       "    </tr>\n",
       "    <tr>\n",
       "      <th>2556785</th>\n",
       "      <td>0</td>\n",
       "    </tr>\n",
       "    <tr>\n",
       "      <th>2556786</th>\n",
       "      <td>0</td>\n",
       "    </tr>\n",
       "    <tr>\n",
       "      <th>2556787</th>\n",
       "      <td>1</td>\n",
       "    </tr>\n",
       "    <tr>\n",
       "      <th>2556788</th>\n",
       "      <td>0</td>\n",
       "    </tr>\n",
       "    <tr>\n",
       "      <th>2556789</th>\n",
       "      <td>0</td>\n",
       "    </tr>\n",
       "  </tbody>\n",
       "</table>\n",
       "<p>2556790 rows × 1 columns</p>\n",
       "</div>"
      ],
      "text/plain": [
       "         target\n",
       "0             0\n",
       "1             0\n",
       "2             0\n",
       "3             1\n",
       "4             0\n",
       "...         ...\n",
       "2556785       0\n",
       "2556786       0\n",
       "2556787       1\n",
       "2556788       0\n",
       "2556789       0\n",
       "\n",
       "[2556790 rows x 1 columns]"
      ]
     },
     "execution_count": 69,
     "metadata": {},
     "output_type": "execute_result"
    }
   ],
   "source": [
    "#converting our predictions to dataframe\n",
    "df_Y = pd.DataFrame(Y, columns= ['target'])\n",
    "df_Y"
   ]
  },
  {
   "cell_type": "markdown",
   "id": "d0502ffd-bc79-44c2-a965-85eb03a1011e",
   "metadata": {},
   "source": [
    "Project by:\n",
    "\n",
    "    Archana Kokate"
   ]
  }
 ],
 "metadata": {
  "kernelspec": {
   "display_name": "Python 3",
   "language": "python",
   "name": "python3"
  },
  "language_info": {
   "codemirror_mode": {
    "name": "ipython",
    "version": 3
   },
   "file_extension": ".py",
   "mimetype": "text/x-python",
   "name": "python",
   "nbconvert_exporter": "python",
   "pygments_lexer": "ipython3",
   "version": "3.7.6"
  }
 },
 "nbformat": 4,
 "nbformat_minor": 5
}
